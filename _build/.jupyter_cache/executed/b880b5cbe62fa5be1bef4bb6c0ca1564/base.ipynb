{
 "cells": [
  {
   "cell_type": "code",
   "execution_count": 1,
   "metadata": {
    "id": "agY4i76htsAp"
   },
   "outputs": [],
   "source": [
    "import pandas as pd\n",
    "import numpy as np"
   ]
  },
  {
   "cell_type": "code",
   "execution_count": 2,
   "metadata": {
    "colab": {
     "base_uri": "https://localhost:8080/",
     "height": 206
    },
    "id": "ZhjS2t7gKCeI",
    "outputId": "6944514a-5ada-4094-fcad-9f0fce8bb9a6"
   },
   "outputs": [
    {
     "data": {
      "text/html": [
       "<div>\n",
       "<style scoped>\n",
       "    .dataframe tbody tr th:only-of-type {\n",
       "        vertical-align: middle;\n",
       "    }\n",
       "\n",
       "    .dataframe tbody tr th {\n",
       "        vertical-align: top;\n",
       "    }\n",
       "\n",
       "    .dataframe thead th {\n",
       "        text-align: right;\n",
       "    }\n",
       "</style>\n",
       "<table border=\"1\" class=\"dataframe\">\n",
       "  <thead>\n",
       "    <tr style=\"text-align: right;\">\n",
       "      <th></th>\n",
       "      <th>Setor</th>\n",
       "      <th>Código</th>\n",
       "      <th>Ação</th>\n",
       "      <th>Tipo</th>\n",
       "      <th>Qtde. Teórica</th>\n",
       "      <th>Part. (%)</th>\n",
       "      <th>Part. (%)Acum.</th>\n",
       "    </tr>\n",
       "  </thead>\n",
       "  <tbody>\n",
       "    <tr>\n",
       "      <th>0</th>\n",
       "      <td>Bens Indls / Máqs e Equips</td>\n",
       "      <td>WEGE3</td>\n",
       "      <td>WEG</td>\n",
       "      <td>ON      NM</td>\n",
       "      <td>1481593024</td>\n",
       "      <td>2.316</td>\n",
       "      <td>2.316</td>\n",
       "    </tr>\n",
       "    <tr>\n",
       "      <th>1</th>\n",
       "      <td>Bens Indls / Mat Transporte</td>\n",
       "      <td>EMBR3</td>\n",
       "      <td>EMBRAER</td>\n",
       "      <td>ON      NM</td>\n",
       "      <td>734632705</td>\n",
       "      <td>0.722</td>\n",
       "      <td>0.722</td>\n",
       "    </tr>\n",
       "    <tr>\n",
       "      <th>2</th>\n",
       "      <td>Bens Indls/Transporte</td>\n",
       "      <td>AZUL4</td>\n",
       "      <td>AZUL</td>\n",
       "      <td>PN      N2</td>\n",
       "      <td>327593725</td>\n",
       "      <td>0.209</td>\n",
       "      <td>2.157</td>\n",
       "    </tr>\n",
       "    <tr>\n",
       "      <th>3</th>\n",
       "      <td>Bens Indls/Transporte</td>\n",
       "      <td>CCRO3</td>\n",
       "      <td>CCR SA</td>\n",
       "      <td>ON      NM</td>\n",
       "      <td>995335937</td>\n",
       "      <td>0.613</td>\n",
       "      <td>2.157</td>\n",
       "    </tr>\n",
       "    <tr>\n",
       "      <th>4</th>\n",
       "      <td>Bens Indls/Transporte</td>\n",
       "      <td>GOLL4</td>\n",
       "      <td>GOL</td>\n",
       "      <td>PN      N2</td>\n",
       "      <td>198184909</td>\n",
       "      <td>0.071</td>\n",
       "      <td>2.157</td>\n",
       "    </tr>\n",
       "  </tbody>\n",
       "</table>\n",
       "</div>"
      ],
      "text/plain": [
       "                         Setor Código     Ação        Tipo  Qtde. Teórica  \\\n",
       "0   Bens Indls / Máqs e Equips  WEGE3      WEG  ON      NM     1481593024   \n",
       "1  Bens Indls / Mat Transporte  EMBR3  EMBRAER  ON      NM      734632705   \n",
       "2        Bens Indls/Transporte  AZUL4     AZUL  PN      N2      327593725   \n",
       "3        Bens Indls/Transporte  CCRO3   CCR SA  ON      NM      995335937   \n",
       "4        Bens Indls/Transporte  GOLL4      GOL  PN      N2      198184909   \n",
       "\n",
       "   Part. (%)  Part. (%)Acum.  \n",
       "0      2.316           2.316  \n",
       "1      0.722           0.722  \n",
       "2      0.209           2.157  \n",
       "3      0.613           2.157  \n",
       "4      0.071           2.157  "
      ]
     },
     "execution_count": 2,
     "metadata": {},
     "output_type": "execute_result"
    }
   ],
   "source": [
    "csv = './data/IBOVDia_12-01-24.csv'\n",
    "ibov = pd.read_csv(csv,\n",
    "                   sep=';',\n",
    "                   encoding='ISO-8859-1',\n",
    "                   skipfooter=2,\n",
    "                   engine='python',\n",
    "                   thousands='.',\n",
    "                   decimal=',',\n",
    "                   header=1,\n",
    "                   index_col=False)\n",
    "ibov.head()"
   ]
  },
  {
   "cell_type": "code",
   "execution_count": 3,
   "metadata": {
    "colab": {
     "base_uri": "https://localhost:8080/"
    },
    "id": "E3HTPROn0qpm",
    "outputId": "0efd1da1-9e53-4a1f-fd72-42aaf23fb778"
   },
   "outputs": [
    {
     "name": "stdout",
     "output_type": "stream",
     "text": [
      "<class 'pandas.core.frame.DataFrame'>\n",
      "RangeIndex: 87 entries, 0 to 86\n",
      "Data columns (total 7 columns):\n",
      " #   Column          Non-Null Count  Dtype  \n",
      "---  ------          --------------  -----  \n",
      " 0   Setor           87 non-null     object \n",
      " 1   Código          87 non-null     object \n",
      " 2   Ação            87 non-null     object \n",
      " 3   Tipo            87 non-null     object \n",
      " 4   Qtde. Teórica   87 non-null     int64  \n",
      " 5   Part. (%)       87 non-null     float64\n",
      " 6   Part. (%)Acum.  87 non-null     float64\n",
      "dtypes: float64(2), int64(1), object(4)\n",
      "memory usage: 4.9+ KB\n"
     ]
    }
   ],
   "source": [
    "ibov.info()"
   ]
  },
  {
   "cell_type": "code",
   "execution_count": 4,
   "metadata": {
    "colab": {
     "base_uri": "https://localhost:8080/"
    },
    "id": "jwahj78k04-r",
    "outputId": "766e1a33-bdca-43a5-d4ac-0baad3bf63d5"
   },
   "outputs": [
    {
     "data": {
      "text/plain": [
       "array(['Bens Indls / Máqs e Equips', 'Bens Indls / Mat Transporte',\n",
       "       'Bens Indls/Transporte', 'Cons N  Básico / Alimentos Processados',\n",
       "       'Cons N Cíclico / Bebidas', 'Cons N Cíclico / Comércio Distr.',\n",
       "       'Cons N Cíclico / Pr Pessoal Limp', 'Cons N Ciclico/Agropecuária',\n",
       "       'Consumo Cíclico / Comércio', 'Consumo Cíclico / Tecid Vest Calç',\n",
       "       'Consumo Cíclico/Constr Civil', 'Consumo Cíclico/Viagens e Lazer',\n",
       "       'Diversos', 'Financ e Outros / Explor Imóveis',\n",
       "       'Financ e Outros / Holdings Divers',\n",
       "       'Financ e Outros / Interms Financs',\n",
       "       'Financ e Outros / Previd  Seguros',\n",
       "       'Financeiro e Outros/Serviços Financeiros Diversos',\n",
       "       'Mats Básicos / Madeira e Papel', 'Mats Básicos / Mineração',\n",
       "       'Mats Básicos / Químicos', 'Mats Básicos / Sid Metalurgia',\n",
       "       'Petróleo/ Gás e Biocombustíveis', 'Saúde/Comércio Distr.',\n",
       "       'Saúde/SM Hosp An.Diag', 'Tec.Informação/Programas Servs',\n",
       "       'Telecomunicação', 'Utilidade Públ / Água Saneamento',\n",
       "       'Utilidade Públ / Energ Elétrica'], dtype=object)"
      ]
     },
     "execution_count": 4,
     "metadata": {},
     "output_type": "execute_result"
    }
   ],
   "source": [
    "ibov['Setor'].unique()"
   ]
  },
  {
   "cell_type": "code",
   "execution_count": 5,
   "metadata": {
    "id": "SCwJvAy5OZug"
   },
   "outputs": [],
   "source": [
    "# Separando os dados antes e depois da \"/\".\n",
    "# O parâmetro 'expand=True' retorna os dados em colunas separadas.\n",
    "ibov[['Setor', 'Subsetor']] = ibov['Setor'].str.split('/', expand=True)\n",
    "\n",
    "# Removendo os espaços extras ao redor das strings\n",
    "ibov['Setor'] = ibov['Setor'].str.strip()\n",
    "ibov['Subsetor'] = ibov['Subsetor'].str.strip()"
   ]
  },
  {
   "cell_type": "code",
   "execution_count": 6,
   "metadata": {
    "colab": {
     "base_uri": "https://localhost:8080/"
    },
    "id": "mTTdMR68UIol",
    "outputId": "535c5f9a-e705-4c92-cda3-b9f1521ba864"
   },
   "outputs": [
    {
     "data": {
      "text/plain": [
       "array(['Bens Indls', 'Cons N  Básico', 'Cons N Cíclico', 'Cons N Ciclico',\n",
       "       'Consumo Cíclico', 'Diversos', 'Financ e Outros',\n",
       "       'Financeiro e Outros', 'Mats Básicos', 'Petróleo', 'Saúde',\n",
       "       'Tec.Informação', 'Telecomunicação', 'Utilidade Públ'],\n",
       "      dtype=object)"
      ]
     },
     "execution_count": 6,
     "metadata": {},
     "output_type": "execute_result"
    }
   ],
   "source": [
    "ibov['Setor'].unique()"
   ]
  },
  {
   "cell_type": "code",
   "execution_count": 7,
   "metadata": {
    "colab": {
     "base_uri": "https://localhost:8080/"
    },
    "id": "M47zYzwHUzmu",
    "outputId": "62e21c8f-adb9-42bd-c7fd-f886d2c813a4"
   },
   "outputs": [
    {
     "data": {
      "text/plain": [
       "array(['Máqs e Equips', 'Mat Transporte', 'Transporte',\n",
       "       'Alimentos Processados', 'Bebidas', 'Comércio Distr.',\n",
       "       'Pr Pessoal Limp', 'Agropecuária', 'Comércio', 'Tecid Vest Calç',\n",
       "       'Constr Civil', 'Viagens e Lazer', None, 'Explor Imóveis',\n",
       "       'Holdings Divers', 'Interms Financs', 'Previd  Seguros',\n",
       "       'Serviços Financeiros Diversos', 'Madeira e Papel', 'Mineração',\n",
       "       'Químicos', 'Sid Metalurgia', 'Gás e Biocombustíveis',\n",
       "       'SM Hosp An.Diag', 'Programas Servs', 'Água Saneamento',\n",
       "       'Energ Elétrica'], dtype=object)"
      ]
     },
     "execution_count": 7,
     "metadata": {},
     "output_type": "execute_result"
    }
   ],
   "source": [
    "ibov['Subsetor'].unique()"
   ]
  },
  {
   "cell_type": "code",
   "execution_count": 8,
   "metadata": {
    "colab": {
     "base_uri": "https://localhost:8080/"
    },
    "id": "ioo4dM5BUjWA",
    "outputId": "a4f233fd-22dc-4ba3-902c-cd7e81d0495a"
   },
   "outputs": [
    {
     "name": "stdout",
     "output_type": "stream",
     "text": [
      "<class 'pandas.core.frame.DataFrame'>\n",
      "RangeIndex: 87 entries, 0 to 86\n",
      "Data columns (total 2 columns):\n",
      " #   Column    Non-Null Count  Dtype \n",
      "---  ------    --------------  ----- \n",
      " 0   Setor     87 non-null     object\n",
      " 1   Subsetor  81 non-null     object\n",
      "dtypes: object(2)\n",
      "memory usage: 1.5+ KB\n"
     ]
    }
   ],
   "source": [
    "ibov[['Setor', 'Subsetor']].info()"
   ]
  },
  {
   "cell_type": "code",
   "execution_count": 9,
   "metadata": {
    "colab": {
     "base_uri": "https://localhost:8080/",
     "height": 238
    },
    "id": "-v9mvcSEVVFJ",
    "outputId": "1df43c68-9e4a-4c01-c14d-8964dd2a145d"
   },
   "outputs": [
    {
     "data": {
      "text/html": [
       "<div>\n",
       "<style scoped>\n",
       "    .dataframe tbody tr th:only-of-type {\n",
       "        vertical-align: middle;\n",
       "    }\n",
       "\n",
       "    .dataframe tbody tr th {\n",
       "        vertical-align: top;\n",
       "    }\n",
       "\n",
       "    .dataframe thead th {\n",
       "        text-align: right;\n",
       "    }\n",
       "</style>\n",
       "<table border=\"1\" class=\"dataframe\">\n",
       "  <thead>\n",
       "    <tr style=\"text-align: right;\">\n",
       "      <th></th>\n",
       "      <th>Setor</th>\n",
       "      <th>Código</th>\n",
       "      <th>Ação</th>\n",
       "      <th>Tipo</th>\n",
       "      <th>Qtde. Teórica</th>\n",
       "      <th>Part. (%)</th>\n",
       "      <th>Part. (%)Acum.</th>\n",
       "      <th>Subsetor</th>\n",
       "    </tr>\n",
       "  </thead>\n",
       "  <tbody>\n",
       "    <tr>\n",
       "      <th>28</th>\n",
       "      <td>Diversos</td>\n",
       "      <td>COGN3</td>\n",
       "      <td>COGNA ON</td>\n",
       "      <td>ON      NM</td>\n",
       "      <td>1814920980</td>\n",
       "      <td>0.269</td>\n",
       "      <td>3.056</td>\n",
       "      <td>None</td>\n",
       "    </tr>\n",
       "    <tr>\n",
       "      <th>29</th>\n",
       "      <td>Diversos</td>\n",
       "      <td>RENT3</td>\n",
       "      <td>LOCALIZA</td>\n",
       "      <td>ON      NM</td>\n",
       "      <td>853202347</td>\n",
       "      <td>2.337</td>\n",
       "      <td>3.056</td>\n",
       "      <td>None</td>\n",
       "    </tr>\n",
       "    <tr>\n",
       "      <th>30</th>\n",
       "      <td>Diversos</td>\n",
       "      <td>VAMO3</td>\n",
       "      <td>VAMOS</td>\n",
       "      <td>ON      NM</td>\n",
       "      <td>421383330</td>\n",
       "      <td>0.180</td>\n",
       "      <td>3.056</td>\n",
       "      <td>None</td>\n",
       "    </tr>\n",
       "    <tr>\n",
       "      <th>31</th>\n",
       "      <td>Diversos</td>\n",
       "      <td>YDUQ3</td>\n",
       "      <td>YDUQS PART</td>\n",
       "      <td>ON      NM</td>\n",
       "      <td>289347914</td>\n",
       "      <td>0.270</td>\n",
       "      <td>3.056</td>\n",
       "      <td>None</td>\n",
       "    </tr>\n",
       "    <tr>\n",
       "      <th>73</th>\n",
       "      <td>Telecomunicação</td>\n",
       "      <td>VIVT3</td>\n",
       "      <td>TELEF BRASIL</td>\n",
       "      <td>ON</td>\n",
       "      <td>423091712</td>\n",
       "      <td>0.956</td>\n",
       "      <td>1.574</td>\n",
       "      <td>None</td>\n",
       "    </tr>\n",
       "    <tr>\n",
       "      <th>74</th>\n",
       "      <td>Telecomunicação</td>\n",
       "      <td>TIMS3</td>\n",
       "      <td>TIM</td>\n",
       "      <td>ON      NM</td>\n",
       "      <td>807896814</td>\n",
       "      <td>0.618</td>\n",
       "      <td>1.574</td>\n",
       "      <td>None</td>\n",
       "    </tr>\n",
       "  </tbody>\n",
       "</table>\n",
       "</div>"
      ],
      "text/plain": [
       "              Setor Código          Ação        Tipo  Qtde. Teórica  \\\n",
       "28         Diversos  COGN3      COGNA ON  ON      NM     1814920980   \n",
       "29         Diversos  RENT3      LOCALIZA  ON      NM      853202347   \n",
       "30         Diversos  VAMO3         VAMOS  ON      NM      421383330   \n",
       "31         Diversos  YDUQ3    YDUQS PART  ON      NM      289347914   \n",
       "73  Telecomunicação  VIVT3  TELEF BRASIL          ON      423091712   \n",
       "74  Telecomunicação  TIMS3           TIM  ON      NM      807896814   \n",
       "\n",
       "    Part. (%)  Part. (%)Acum. Subsetor  \n",
       "28      0.269           3.056     None  \n",
       "29      2.337           3.056     None  \n",
       "30      0.180           3.056     None  \n",
       "31      0.270           3.056     None  \n",
       "73      0.956           1.574     None  \n",
       "74      0.618           1.574     None  "
      ]
     },
     "execution_count": 9,
     "metadata": {},
     "output_type": "execute_result"
    }
   ],
   "source": [
    "ibov[ibov['Subsetor'].isna()]"
   ]
  },
  {
   "cell_type": "code",
   "execution_count": 10,
   "metadata": {
    "colab": {
     "base_uri": "https://localhost:8080/"
    },
    "id": "qzBfBr1AVwze",
    "outputId": "b665b0d8-62a1-4020-d233-05923e46af2c"
   },
   "outputs": [
    {
     "name": "stdout",
     "output_type": "stream",
     "text": [
      "<class 'pandas.core.frame.DataFrame'>\n",
      "RangeIndex: 87 entries, 0 to 86\n",
      "Data columns (total 8 columns):\n",
      " #   Column          Non-Null Count  Dtype  \n",
      "---  ------          --------------  -----  \n",
      " 0   Setor           87 non-null     object \n",
      " 1   Código          87 non-null     object \n",
      " 2   Ação            87 non-null     object \n",
      " 3   Tipo            87 non-null     object \n",
      " 4   Qtde. Teórica   87 non-null     int64  \n",
      " 5   Part. (%)       87 non-null     float64\n",
      " 6   Part. (%)Acum.  87 non-null     float64\n",
      " 7   Subsetor        87 non-null     object \n",
      "dtypes: float64(2), int64(1), object(5)\n",
      "memory usage: 5.6+ KB\n"
     ]
    }
   ],
   "source": [
    "ibov['Subsetor'] = ibov['Subsetor'].fillna(ibov['Setor'])\n",
    "ibov.info()"
   ]
  },
  {
   "cell_type": "code",
   "execution_count": 11,
   "metadata": {
    "colab": {
     "base_uri": "https://localhost:8080/"
    },
    "id": "6r0o2iQPFz8q",
    "outputId": "aa5d4c5f-f171-4c54-9a12-ca2fca1c21dd"
   },
   "outputs": [
    {
     "data": {
      "text/plain": [
       "array(['Bens Indls', 'Consumo Não-Cíclico', 'Consumo Cíclico', 'Diversos',\n",
       "       'Financeiro', 'Mats Básicos', 'Petróleo', 'Saúde', 'TI e Telecom',\n",
       "       'Utilidade Públ'], dtype=object)"
      ]
     },
     "execution_count": 11,
     "metadata": {},
     "output_type": "execute_result"
    }
   ],
   "source": [
    "def agrupa_setor(setor):\n",
    "  if setor in ['Cons N  Básico', 'Cons N Cíclico', 'Cons N Ciclico']: return \"Consumo Não-Cíclico\"\n",
    "  if setor in ['Financ e Outros', 'Financeiro e Outros']: return \"Financeiro\"\n",
    "  if setor in ['Tec.Informação', 'Telecomunicação']: return \"TI e Telecom\"\n",
    "  else: return setor\n",
    "\n",
    "ibov['Setor'] = ibov['Setor'].apply(agrupa_setor)\n",
    "ibov['Setor'].unique()"
   ]
  },
  {
   "cell_type": "code",
   "execution_count": 12,
   "metadata": {
    "colab": {
     "base_uri": "https://localhost:8080/",
     "height": 363
    },
    "id": "WPH5pO4_3_xd",
    "outputId": "dc486b75-66df-42ce-ca74-b0f13aa7435f"
   },
   "outputs": [
    {
     "data": {
      "text/html": [
       "<div>\n",
       "<style scoped>\n",
       "    .dataframe tbody tr th:only-of-type {\n",
       "        vertical-align: middle;\n",
       "    }\n",
       "\n",
       "    .dataframe tbody tr th {\n",
       "        vertical-align: top;\n",
       "    }\n",
       "\n",
       "    .dataframe thead th {\n",
       "        text-align: right;\n",
       "    }\n",
       "</style>\n",
       "<table border=\"1\" class=\"dataframe\">\n",
       "  <thead>\n",
       "    <tr style=\"text-align: right;\">\n",
       "      <th></th>\n",
       "      <th>Setor</th>\n",
       "      <th>Código</th>\n",
       "      <th>Ação</th>\n",
       "      <th>Tipo</th>\n",
       "      <th>Qtde. Teórica</th>\n",
       "      <th>Part. (%)</th>\n",
       "      <th>Part. (%)Acum.</th>\n",
       "      <th>Subsetor</th>\n",
       "    </tr>\n",
       "  </thead>\n",
       "  <tbody>\n",
       "    <tr>\n",
       "      <th>51</th>\n",
       "      <td>Mats Básicos</td>\n",
       "      <td>VALE3</td>\n",
       "      <td>VALE</td>\n",
       "      <td>ON      NM</td>\n",
       "      <td>4196924316</td>\n",
       "      <td>13.681</td>\n",
       "      <td>14.311</td>\n",
       "      <td>Mineração</td>\n",
       "    </tr>\n",
       "    <tr>\n",
       "      <th>60</th>\n",
       "      <td>Petróleo</td>\n",
       "      <td>PETR4</td>\n",
       "      <td>PETROBRAS</td>\n",
       "      <td>PN      N2</td>\n",
       "      <td>4566445852</td>\n",
       "      <td>7.805</td>\n",
       "      <td>17.879</td>\n",
       "      <td>Gás e Biocombustíveis</td>\n",
       "    </tr>\n",
       "    <tr>\n",
       "      <th>40</th>\n",
       "      <td>Financeiro</td>\n",
       "      <td>ITUB4</td>\n",
       "      <td>ITAUUNIBANCO</td>\n",
       "      <td>PN      N1</td>\n",
       "      <td>4801593832</td>\n",
       "      <td>7.189</td>\n",
       "      <td>17.747</td>\n",
       "      <td>Interms Financs</td>\n",
       "    </tr>\n",
       "    <tr>\n",
       "      <th>79</th>\n",
       "      <td>Utilidade Públ</td>\n",
       "      <td>ELET3</td>\n",
       "      <td>ELETROBRAS</td>\n",
       "      <td>ON      N1</td>\n",
       "      <td>1980568384</td>\n",
       "      <td>3.843</td>\n",
       "      <td>10.954</td>\n",
       "      <td>Energ Elétrica</td>\n",
       "    </tr>\n",
       "    <tr>\n",
       "      <th>11</th>\n",
       "      <td>Consumo Não-Cíclico</td>\n",
       "      <td>ABEV3</td>\n",
       "      <td>AMBEV S/A</td>\n",
       "      <td>ON</td>\n",
       "      <td>4394245879</td>\n",
       "      <td>2.675</td>\n",
       "      <td>2.675</td>\n",
       "      <td>Bebidas</td>\n",
       "    </tr>\n",
       "    <tr>\n",
       "      <th>29</th>\n",
       "      <td>Diversos</td>\n",
       "      <td>RENT3</td>\n",
       "      <td>LOCALIZA</td>\n",
       "      <td>ON      NM</td>\n",
       "      <td>853202347</td>\n",
       "      <td>2.337</td>\n",
       "      <td>3.056</td>\n",
       "      <td>Diversos</td>\n",
       "    </tr>\n",
       "    <tr>\n",
       "      <th>0</th>\n",
       "      <td>Bens Indls</td>\n",
       "      <td>WEGE3</td>\n",
       "      <td>WEG</td>\n",
       "      <td>ON      NM</td>\n",
       "      <td>1481593024</td>\n",
       "      <td>2.316</td>\n",
       "      <td>2.316</td>\n",
       "      <td>Máqs e Equips</td>\n",
       "    </tr>\n",
       "    <tr>\n",
       "      <th>67</th>\n",
       "      <td>Saúde</td>\n",
       "      <td>RADL3</td>\n",
       "      <td>RAIADROGASIL</td>\n",
       "      <td>ON      NM</td>\n",
       "      <td>1275798515</td>\n",
       "      <td>1.614</td>\n",
       "      <td>2.248</td>\n",
       "      <td>Comércio Distr.</td>\n",
       "    </tr>\n",
       "    <tr>\n",
       "      <th>73</th>\n",
       "      <td>TI e Telecom</td>\n",
       "      <td>VIVT3</td>\n",
       "      <td>TELEF BRASIL</td>\n",
       "      <td>ON</td>\n",
       "      <td>423091712</td>\n",
       "      <td>0.956</td>\n",
       "      <td>1.574</td>\n",
       "      <td>Telecomunicação</td>\n",
       "    </tr>\n",
       "    <tr>\n",
       "      <th>20</th>\n",
       "      <td>Consumo Cíclico</td>\n",
       "      <td>LREN3</td>\n",
       "      <td>LOJAS RENNER</td>\n",
       "      <td>ON      NM</td>\n",
       "      <td>951329770</td>\n",
       "      <td>0.703</td>\n",
       "      <td>1.431</td>\n",
       "      <td>Comércio</td>\n",
       "    </tr>\n",
       "  </tbody>\n",
       "</table>\n",
       "</div>"
      ],
      "text/plain": [
       "                  Setor Código          Ação        Tipo  Qtde. Teórica  \\\n",
       "51         Mats Básicos  VALE3          VALE  ON      NM     4196924316   \n",
       "60             Petróleo  PETR4     PETROBRAS  PN      N2     4566445852   \n",
       "40           Financeiro  ITUB4  ITAUUNIBANCO  PN      N1     4801593832   \n",
       "79       Utilidade Públ  ELET3    ELETROBRAS  ON      N1     1980568384   \n",
       "11  Consumo Não-Cíclico  ABEV3     AMBEV S/A          ON     4394245879   \n",
       "29             Diversos  RENT3      LOCALIZA  ON      NM      853202347   \n",
       "0            Bens Indls  WEGE3           WEG  ON      NM     1481593024   \n",
       "67                Saúde  RADL3  RAIADROGASIL  ON      NM     1275798515   \n",
       "73         TI e Telecom  VIVT3  TELEF BRASIL          ON      423091712   \n",
       "20      Consumo Cíclico  LREN3  LOJAS RENNER  ON      NM      951329770   \n",
       "\n",
       "    Part. (%)  Part. (%)Acum.               Subsetor  \n",
       "51     13.681          14.311              Mineração  \n",
       "60      7.805          17.879  Gás e Biocombustíveis  \n",
       "40      7.189          17.747        Interms Financs  \n",
       "79      3.843          10.954         Energ Elétrica  \n",
       "11      2.675           2.675                Bebidas  \n",
       "29      2.337           3.056               Diversos  \n",
       "0       2.316           2.316          Máqs e Equips  \n",
       "67      1.614           2.248        Comércio Distr.  \n",
       "73      0.956           1.574        Telecomunicação  \n",
       "20      0.703           1.431               Comércio  "
      ]
     },
     "execution_count": 12,
     "metadata": {},
     "output_type": "execute_result"
    }
   ],
   "source": [
    "# Ordenando as ações por participação na ordem decrescente e selecionando a primeira de cada setor.\n",
    "Carteira = ibov.sort_values(by=['Part. (%)'], ascending=False).groupby(['Setor']).head(1)\n",
    "Carteira"
   ]
  },
  {
   "cell_type": "code",
   "execution_count": 13,
   "metadata": {
    "id": "p-ZTLsQ9ktUV"
   },
   "outputs": [],
   "source": [
    "#Distribuindo os pesos na carteira\n",
    "Carteira['Peso'] = Carteira['Part. (%)'] / Carteira['Part. (%)'].sum()"
   ]
  },
  {
   "cell_type": "code",
   "execution_count": 14,
   "metadata": {
    "colab": {
     "base_uri": "https://localhost:8080/",
     "height": 363
    },
    "id": "RKHwLP-QiWo_",
    "outputId": "e803ef76-1276-4d21-ded4-3343aeb08af6"
   },
   "outputs": [
    {
     "data": {
      "text/html": [
       "<div>\n",
       "<style scoped>\n",
       "    .dataframe tbody tr th:only-of-type {\n",
       "        vertical-align: middle;\n",
       "    }\n",
       "\n",
       "    .dataframe tbody tr th {\n",
       "        vertical-align: top;\n",
       "    }\n",
       "\n",
       "    .dataframe thead th {\n",
       "        text-align: right;\n",
       "    }\n",
       "</style>\n",
       "<table border=\"1\" class=\"dataframe\">\n",
       "  <thead>\n",
       "    <tr style=\"text-align: right;\">\n",
       "      <th></th>\n",
       "      <th>Código</th>\n",
       "      <th>Ação</th>\n",
       "      <th>Peso</th>\n",
       "      <th>Setor</th>\n",
       "      <th>Subsetor</th>\n",
       "    </tr>\n",
       "  </thead>\n",
       "  <tbody>\n",
       "    <tr>\n",
       "      <th>0</th>\n",
       "      <td>VALE3</td>\n",
       "      <td>VALE</td>\n",
       "      <td>0.317285</td>\n",
       "      <td>Mats Básicos</td>\n",
       "      <td>Mineração</td>\n",
       "    </tr>\n",
       "    <tr>\n",
       "      <th>1</th>\n",
       "      <td>PETR4</td>\n",
       "      <td>PETROBRAS</td>\n",
       "      <td>0.181011</td>\n",
       "      <td>Petróleo</td>\n",
       "      <td>Gás e Biocombustíveis</td>\n",
       "    </tr>\n",
       "    <tr>\n",
       "      <th>2</th>\n",
       "      <td>ITUB4</td>\n",
       "      <td>ITAUUNIBANCO</td>\n",
       "      <td>0.166725</td>\n",
       "      <td>Financeiro</td>\n",
       "      <td>Interms Financs</td>\n",
       "    </tr>\n",
       "    <tr>\n",
       "      <th>3</th>\n",
       "      <td>ELET3</td>\n",
       "      <td>ELETROBRAS</td>\n",
       "      <td>0.089125</td>\n",
       "      <td>Utilidade Públ</td>\n",
       "      <td>Energ Elétrica</td>\n",
       "    </tr>\n",
       "    <tr>\n",
       "      <th>4</th>\n",
       "      <td>ABEV3</td>\n",
       "      <td>AMBEV S/A</td>\n",
       "      <td>0.062038</td>\n",
       "      <td>Consumo Não-Cíclico</td>\n",
       "      <td>Bebidas</td>\n",
       "    </tr>\n",
       "    <tr>\n",
       "      <th>5</th>\n",
       "      <td>RENT3</td>\n",
       "      <td>LOCALIZA</td>\n",
       "      <td>0.054199</td>\n",
       "      <td>Diversos</td>\n",
       "      <td>Diversos</td>\n",
       "    </tr>\n",
       "    <tr>\n",
       "      <th>6</th>\n",
       "      <td>WEGE3</td>\n",
       "      <td>WEG</td>\n",
       "      <td>0.053712</td>\n",
       "      <td>Bens Indls</td>\n",
       "      <td>Máqs e Equips</td>\n",
       "    </tr>\n",
       "    <tr>\n",
       "      <th>7</th>\n",
       "      <td>RADL3</td>\n",
       "      <td>RAIADROGASIL</td>\n",
       "      <td>0.037431</td>\n",
       "      <td>Saúde</td>\n",
       "      <td>Comércio Distr.</td>\n",
       "    </tr>\n",
       "    <tr>\n",
       "      <th>8</th>\n",
       "      <td>VIVT3</td>\n",
       "      <td>TELEF BRASIL</td>\n",
       "      <td>0.022171</td>\n",
       "      <td>TI e Telecom</td>\n",
       "      <td>Telecomunicação</td>\n",
       "    </tr>\n",
       "    <tr>\n",
       "      <th>9</th>\n",
       "      <td>LREN3</td>\n",
       "      <td>LOJAS RENNER</td>\n",
       "      <td>0.016304</td>\n",
       "      <td>Consumo Cíclico</td>\n",
       "      <td>Comércio</td>\n",
       "    </tr>\n",
       "  </tbody>\n",
       "</table>\n",
       "</div>"
      ],
      "text/plain": [
       "  Código          Ação      Peso                Setor               Subsetor\n",
       "0  VALE3          VALE  0.317285         Mats Básicos              Mineração\n",
       "1  PETR4     PETROBRAS  0.181011             Petróleo  Gás e Biocombustíveis\n",
       "2  ITUB4  ITAUUNIBANCO  0.166725           Financeiro        Interms Financs\n",
       "3  ELET3    ELETROBRAS  0.089125       Utilidade Públ         Energ Elétrica\n",
       "4  ABEV3     AMBEV S/A  0.062038  Consumo Não-Cíclico                Bebidas\n",
       "5  RENT3      LOCALIZA  0.054199             Diversos               Diversos\n",
       "6  WEGE3           WEG  0.053712           Bens Indls          Máqs e Equips\n",
       "7  RADL3  RAIADROGASIL  0.037431                Saúde        Comércio Distr.\n",
       "8  VIVT3  TELEF BRASIL  0.022171         TI e Telecom        Telecomunicação\n",
       "9  LREN3  LOJAS RENNER  0.016304      Consumo Cíclico               Comércio"
      ]
     },
     "execution_count": 14,
     "metadata": {},
     "output_type": "execute_result"
    }
   ],
   "source": [
    "#Selecionando somente as colunas necessárias.\n",
    "Carteira = Carteira[['Código', 'Ação', 'Peso', 'Setor', 'Subsetor']].reset_index(drop=True)\n",
    "Carteira"
   ]
  },
  {
   "cell_type": "code",
   "execution_count": 15,
   "metadata": {
    "id": "da5-g1TRRgxq"
   },
   "outputs": [],
   "source": [
    "#Salvando os dados da carteira em formato .xlsx com pandas\n",
    "Carteira.to_excel('./data/carteira.xlsx', index = False)"
   ]
  }
 ],
 "metadata": {
  "colab": {
   "provenance": []
  },
  "kernelspec": {
   "display_name": "Python 3",
   "name": "python3"
  },
  "language_info": {
   "codemirror_mode": {
    "name": "ipython",
    "version": 3
   },
   "file_extension": ".py",
   "mimetype": "text/x-python",
   "name": "python",
   "nbconvert_exporter": "python",
   "pygments_lexer": "ipython3",
   "version": "3.11.2"
  }
 },
 "nbformat": 4,
 "nbformat_minor": 0
}